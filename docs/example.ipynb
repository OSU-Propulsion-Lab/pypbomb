{
 "cells": [
  {
   "cell_type": "markdown",
   "metadata": {},
   "source": [
    "# Examples"
   ]
  },
  {
   "cell_type": "markdown",
   "metadata": {},
   "source": [
    "Let's go over some quick examples of how you might use ``pypbomb`` to design a detonation tube for your research."
   ]
  },
  {
   "cell_type": "code",
   "execution_count": 1,
   "metadata": {},
   "outputs": [],
   "source": [
    "from itertools import product\n",
    "\n",
    "import cantera as ct\n",
    "import pandas as pd\n",
    "import pint\n",
    "import seaborn as sns\n",
    "\n",
    "from pypbomb import tube\n",
    "\n",
    "ureg = pint.UnitRegistry()\n",
    "quant = ureg.Quantity"
   ]
  },
  {
   "cell_type": "markdown",
   "metadata": {},
   "source": [
    "## Determine tube size and operating limits"
   ]
  },
  {
   "cell_type": "markdown",
   "metadata": {},
   "source": [
    "First we will pick a mixture of stoichiometric propane/air. For this example we will use ``gri30.cti`` as the mechanism of choice for our Cantera calculations."
   ]
  },
  {
   "cell_type": "code",
   "execution_count": 2,
   "metadata": {},
   "outputs": [],
   "source": [
    "fuel = \"C3H8\"\n",
    "oxidizer = \"O2:1 N2:3.76\"\n",
    "material = \"316L\"\n",
    "mechanism = \"gri30.cti\"\n",
    "gas = ct.Solution(mechanism)\n",
    "gas.set_equivalence_ratio(1, fuel, oxidizer)"
   ]
  },
  {
   "cell_type": "markdown",
   "metadata": {},
   "source": [
    "Next, let's consider 316L since it's a commonly used stainless steel."
   ]
  },
  {
   "cell_type": "code",
   "execution_count": 3,
   "metadata": {},
   "outputs": [],
   "source": [
    "material = \"316L\""
   ]
  },
  {
   "cell_type": "markdown",
   "metadata": {},
   "source": [
    "At this point we should probably out which schedules are available across all of the potential pipe sizes that we'd like to consider."
   ]
  },
  {
   "cell_type": "code",
   "execution_count": 4,
   "metadata": {},
   "outputs": [
    {
     "data": {
      "text/plain": [
       "{'10', '10s', '120', '160', '40', '40s', '5', '5s', '80', '80s', 'XXH'}"
      ]
     },
     "execution_count": 4,
     "metadata": {},
     "output_type": "execute_result"
    }
   ],
   "source": [
    "potential_sizes = [\"4\", \"6\", \"8\"]\n",
    "common_sizes = set(tube.Tube.get_available_pipe_schedules(potential_sizes[0]))\n",
    "for size in potential_sizes[1:]:\n",
    "    common_sizes.intersection_update(\n",
    "        set(tube.Tube.get_available_pipe_schedules(size))\n",
    "    )\n",
    "common_sizes"
   ]
  },
  {
   "cell_type": "markdown",
   "metadata": {},
   "source": [
    "Given these options, let's choose schedules 40, 80, 120, and XXH for consideration."
   ]
  },
  {
   "cell_type": "code",
   "execution_count": 5,
   "metadata": {},
   "outputs": [],
   "source": [
    "potential_schedules = [\"40\", \"80\", \"120\", \"XXH\"]"
   ]
  },
  {
   "cell_type": "markdown",
   "metadata": {},
   "source": [
    "Let's also look at a couple of different operating temperatures. Room temperature is always a good place to start. We will also look at 100 degrees Celsius; perhaps we want to use a hot water jacket to investigate detonations at elevated initial temperatures, so let's use 100 degrees as well."
   ]
  },
  {
   "cell_type": "code",
   "execution_count": 6,
   "metadata": {},
   "outputs": [],
   "source": [
    "initial_temperatures = [\n",
    "    quant(20, \"degC\"),\n",
    "    quant(100, \"degC\"),\n",
    "]"
   ]
  },
  {
   "cell_type": "markdown",
   "metadata": {},
   "source": [
    "Now let's figure out what we can do with each combination of pipe size, pipe schedule, and initial temperature. The steps we will use for each combination are:\n",
    "\n",
    "1. look up the tube dimensions,\n",
    "2. look up the maximum allowable stress,\n",
    "3. calculate the corresponding maximum pressure,\n",
    "4. look up the elastic modulus, density, and Poisson ratio of our tube material, and\n",
    "5. calculate the maximum safe initial pressure that we can test at.\n",
    "\n",
    "Note that we are setting ``multiprocessing=False``, since multiprocessing can cause unexpected misbehavior when run from within a jupyter notebook."
   ]
  },
  {
   "cell_type": "code",
   "execution_count": 7,
   "metadata": {},
   "outputs": [],
   "source": [
    "combinations = list(\n",
    "    product(\n",
    "        potential_schedules,\n",
    "        potential_sizes,\n",
    "        initial_temperatures\n",
    "    )\n",
    ")\n",
    "results = pd.DataFrame(\n",
    "    columns=[\n",
    "        \"schedule\",\n",
    "        \"size\",\n",
    "        \"initial pressure (kPa)\",\n",
    "        \"initial temperature (K)\"\n",
    "    ]\n",
    ")\n",
    "for i, (schedule, size, initial_temperature) in enumerate(combinations):\n",
    "    dims = tube.Tube.get_dimensions(\n",
    "        size,\n",
    "        schedule,\n",
    "        unit_registry=ureg\n",
    "    )\n",
    "    max_stress = tube.Tube.calculate_max_stress(\n",
    "        initial_temperature,\n",
    "        material,\n",
    "        welded=False,\n",
    "        unit_registry=ureg\n",
    "    )\n",
    "    max_pressure = tube.Tube.calculate_max_pressure(\n",
    "        dims[\"inner_diameter\"],\n",
    "        dims[\"outer_diameter\"],\n",
    "        max_stress\n",
    "    )\n",
    "    elastic_modulus = tube.Tube.get_elastic_modulus(material, ureg)\n",
    "    density = tube.Tube.get_density(material, ureg)\n",
    "    poisson = tube.Tube.get_poisson(material)\n",
    "    initial_pressure = tube.Tube.calculate_max_initial_pressure(\n",
    "        dims[\"inner_diameter\"],\n",
    "        dims[\"outer_diameter\"],\n",
    "        initial_temperature,\n",
    "        gas.mole_fraction_dict(),\n",
    "        mechanism,\n",
    "        max_pressure.to(\"Pa\"),\n",
    "        elastic_modulus,\n",
    "        density,\n",
    "        poisson,\n",
    "        use_multiprocessing=False\n",
    "    )\n",
    "\n",
    "    current_results = pd.Series(dtype=\"object\")\n",
    "    current_results[\"schedule\"] = schedule\n",
    "    current_results[\"size\"] = size\n",
    "    current_results[\"initial pressure (kPa)\"] = \\\n",
    "    initial_pressure.to(\"kPa\").magnitude\n",
    "    current_results[\"initial temperature (K)\"] = \\\n",
    "        initial_temperature.to(\"K\").magnitude\n",
    "    results = pd.concat((results, current_results.to_frame().T))"
   ]
  },
  {
   "cell_type": "markdown",
   "metadata": {},
   "source": [
    "o wow do the plot thign cool"
   ]
  },
  {
   "cell_type": "code",
   "execution_count": 8,
   "metadata": {},
   "outputs": [
    {
     "data": {
      "image/png": "[encoded data removed]",
      "text/plain": [
       "<Figure size 791.05x288 with 3 Axes>"
      ]
     },
     "metadata": {
      "needs_background": "light"
     },
     "output_type": "display_data"
    }
   ],
   "source": [
    "sns.set_context(\"notebook\")\n",
    "g = sns.FacetGrid(\n",
    "    col=\"size\",\n",
    "    hue=\"initial temperature (K)\",\n",
    "    data=results,\n",
    "    height=4,\n",
    "    aspect=0.75,\n",
    ")\n",
    "g.map(\n",
    "    sns.scatterplot,\n",
    "    \"schedule\",\n",
    "    \"initial pressure (kPa)\",\n",
    "    alpha=0.75,\n",
    ").add_legend()\n",
    "sns.despine()\n"
   ]
  },
  {
   "cell_type": "code",
   "execution_count": null,
   "metadata": {},
   "outputs": [],
   "source": []
  }
 ],
 "metadata": {
  "kernelspec": {
   "display_name": "Python 3",
   "language": "python",
   "name": "python3"
  },
  "language_info": {
   "codemirror_mode": {
    "name": "ipython",
    "version": 3
   },
   "file_extension": ".py",
   "mimetype": "text/x-python",
   "name": "python",
   "nbconvert_exporter": "python",
   "pygments_lexer": "ipython3",
   "version": "3.7.7"
  }
 },
 "nbformat": 4,
 "nbformat_minor": 4
}
